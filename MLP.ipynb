{
 "cells": [
  {
   "cell_type": "markdown",
   "metadata": {},
   "source": [
    "# Multilayer Perceptron Visualization\n",
    "### Joseph Coston & Douglas Newquist\n",
    "Final Project for CSE 489 Machine Learning\n",
    "\n",
    "11/13/2021"
   ]
  },
  {
   "cell_type": "code",
   "execution_count": null,
   "metadata": {},
   "outputs": [],
   "source": [
    "# standard imports\n",
    "import math\n",
    "import matplotlib as mpl\n",
    "import matplotlib.pyplot as plt\n",
    "import numpy as np\n",
    "import pandas as pd\n",
    "# project imports\n",
    "import generator\n",
    "import mlp"
   ]
  },
  {
   "cell_type": "code",
   "execution_count": null,
   "metadata": {},
   "outputs": [],
   "source": [
    "# generate some random datapoints\n",
    "N = 100\n",
    "pc = generator.pointCloud2D(f = lambda x,y : (x+y-1 > 0), n=N)"
   ]
  },
  {
   "cell_type": "code",
   "execution_count": null,
   "metadata": {},
   "outputs": [],
   "source": [
    "# plot the liearly separable distribution\n",
    "fig, ax = pc.to_fig()\n",
    "fig.suptitle('Actual Point Output Values')"
   ]
  },
  {
   "cell_type": "code",
   "execution_count": null,
   "metadata": {},
   "outputs": [],
   "source": [
    "# Example linear perceptron describing the line (x + y > 0)\n",
    "s1 = mlp.Neuron([1,1.5], lambda x: x > 0, 0)\n",
    "s1.evaluate((pc.data['x'][0],pc.data['y'][0]))"
   ]
  },
  {
   "cell_type": "code",
   "execution_count": null,
   "metadata": {},
   "outputs": [],
   "source": [
    "# visualize the output space\n",
    "def visualize(o, dim, scale, mode='flatten'):\n",
    "    if isinstance(o,mlp.Neuron):\n",
    "        plt.imshow(np.array(o.get_matrix(dim, scale)).T, origin='lower')\n",
    "    elif isinstance(o, mlp.Layer):\n",
    "        plt.imshow(np.array(o.get_matrix(dim, scale, mode)).T, origin='lower')\n",
    "    ax = plt.gca()\n",
    "    ax.set_xlabel('x')\n",
    "    ax.set_ylabel('y')\n",
    "    plt.locator_params(axis=\"x\", nbins=10)\n",
    "    plt.locator_params(axis=\"y\", nbins=10)\n",
    "    ax.set_xticklabels((ax.get_xticks()-dim/2)*scale, rotation = 45)\n",
    "    ax.set_yticklabels((ax.get_yticks()-dim/2)*scale, rotation = 45)"
   ]
  },
  {
   "cell_type": "code",
   "execution_count": null,
   "metadata": {},
   "outputs": [],
   "source": [
    "visualize(s1, 400, 0.05)"
   ]
  },
  {
   "cell_type": "code",
   "execution_count": null,
   "metadata": {},
   "outputs": [],
   "source": [
    "size = 100\n",
    "X = []\n",
    "Y = []\n",
    "\n",
    "for y in np.linspace(-10, 10, size):\n",
    "\tfor x in np.linspace(-10, 10, size):\n",
    "\t\tif s1.evaluate((x, y)):\n",
    "\t\t\tX.append(x)\n",
    "\t\t\tY.append(y)\n",
    "\n",
    "plt.title(\"Visualization of s1 Neuron\")\n",
    "plt.scatter(X, Y)\n",
    "plt.axvline(0, color=\"black\")\n",
    "plt.axhline(0, color=\"black\")\n",
    "plt.xlabel(\"x\")\n",
    "plt.ylabel(\"y\")\n"
   ]
  },
  {
   "cell_type": "code",
   "execution_count": null,
   "metadata": {},
   "outputs": [],
   "source": [
    "l1 = mlp.Layer(N, 2, mlp.sigmoid)\n",
    "l1.evaluate(pc.data['x'].to_list())"
   ]
  },
  {
   "cell_type": "code",
   "execution_count": null,
   "metadata": {},
   "outputs": [],
   "source": [
    "# Triangle with points (2,2), (4,4), (6,2)\n",
    "line1 = mlp.Neuron([1, -1], lambda x: x >= 0, 0) # x - y >= 0\n",
    "line2 = mlp.Neuron([0, 1], lambda x: x >= 0, -2) # y >= 2\n",
    "line3 = mlp.Neuron([-1, -1], lambda x: x >= 0, 8) # -x -y + 8 >= 0\n",
    "\n",
    "layer1 = mlp.Layer([line1, line2, line3])\n",
    "\n",
    "all_neuron = mlp.Neuron([1,1,1], lambda x: x > 0, -2)\n",
    "layer2 = mlp.Layer([all_neuron])\n",
    "\n",
    "triangle = mlp.NeuralNetwork([layer1, layer2])\n",
    "triangle.evaluate((1, 1), True)"
   ]
  },
  {
   "cell_type": "code",
   "execution_count": null,
   "metadata": {},
   "outputs": [],
   "source": [
    "# visualize the output space\n",
    "visualize(layer1, 400, 0.05, 'add')"
   ]
  },
  {
   "cell_type": "code",
   "execution_count": null,
   "metadata": {},
   "outputs": [],
   "source": [
    "def plot2D_network(n, x_range, y_range):\n",
    "\tfor group in range(n.output_size):\n",
    "\t\tX = []\n",
    "\t\tY = []\n",
    "\t\tfor x in np.linspace(*x_range):\n",
    "\t\t\tfor y in np.linspace(*y_range):\n",
    "\t\t\t\tif n.evaluate((x, y))[group]:\n",
    "\t\t\t\t\tX.append(x)\n",
    "\t\t\t\t\tY.append(y)\n",
    "\t\tplt.scatter(X, Y)\n",
    "\n",
    "\tplt.axhline(0, color=\"black\")\n",
    "\tplt.axvline(0, color=\"black\")\n",
    "\tplt.xlabel(\"x\")\n",
    "\tplt.ylabel(\"y\")"
   ]
  },
  {
   "cell_type": "code",
   "execution_count": null,
   "metadata": {},
   "outputs": [],
   "source": [
    "# try more convex shapes \n",
    "# attempt complex shapes (chevron)\n",
    "# attempt complex symbol\n",
    "# linear activation functions\n",
    "# possibly move to back prop later..."
   ]
  },
  {
   "cell_type": "code",
   "execution_count": null,
   "metadata": {},
   "outputs": [],
   "source": [
    "# points (-2,0),(2,0),(4,4),(-4,4) and (-2,0),(2,0),(4,-4),(-4,-4)\n",
    "\n",
    "L1 = mlp.Neuron([0, 1], lambda x: x <= 0, -4)   # y <= 4\n",
    "L2 = mlp.Neuron([-2, -1], lambda x: x <= 0, -4) # -2x -y -4 <= 0\n",
    "L3 = mlp.Neuron([2, -1], lambda x: x <= 0, -4)  # 2x -y -4 <= 0 \n",
    "L4 = mlp.Neuron([0, 1], lambda x: x >= 0, 0)    # y >= 0\n",
    "L5 = mlp.Neuron([0, -1], lambda x: x > 0, 0)\n",
    "L6 = mlp.Neuron([2, -1], lambda x: x >= 0, 4)   # 2x -y + 4 >= 0\n",
    "L7 = mlp.Neuron([-2, -1], lambda x: x >= 0, 4)  # -2x -y + 4 >= 0\n",
    "L8 = mlp.Neuron([0, 1], lambda x: x >= 0, 4)    # y >= -4\n",
    "\n",
    "hourglass_lines = mlp.Layer([L1, L2, L3, L4, L5, L6, L7, L8])\n",
    "\n",
    "trap1 = mlp.Neuron([1, 1, 1, 1, 0, 0, 0], lambda x: x > 0, -3) # AND(L1, L2, L3, L4)\n",
    "trap2 = mlp.Neuron([0, 0, 0, 0, 1, 1, 1, 1], lambda x: x > 0, -3) # AND(L5, L6, L7, L8)\n",
    "\n",
    "hourglass_shapes = mlp.Layer([trap1, trap2])\n",
    "\n",
    "or_neuron = mlp.Neuron([1, 1], lambda x: x > 0, 0)\n",
    "\n",
    "hourglass = mlp.NeuralNetwork([hourglass_lines, hourglass_shapes, or_neuron])\n",
    "hourglass.evaluate((0, -3), True)"
   ]
  },
  {
   "cell_type": "code",
   "execution_count": null,
   "metadata": {},
   "outputs": [],
   "source": [
    "visualize(hourglass_lines, 400, 0.05, \"add\")"
   ]
  }
 ],
 "metadata": {
  "interpreter": {
   "hash": "9bd32917da3f796ba057fa35ad3e03810b33cd6d3221f1ee265611c33147f53b"
  },
  "kernelspec": {
   "display_name": "Python 3.8.3 64-bit ('base': conda)",
   "language": "python",
   "name": "python3"
  },
  "language_info": {
   "codemirror_mode": {
    "name": "ipython",
    "version": 3
   },
   "file_extension": ".py",
   "mimetype": "text/x-python",
   "name": "python",
   "nbconvert_exporter": "python",
   "pygments_lexer": "ipython3",
   "version": "3.8.10"
  },
  "orig_nbformat": 4
 },
 "nbformat": 4,
 "nbformat_minor": 2
}
