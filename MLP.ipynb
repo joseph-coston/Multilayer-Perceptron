{
 "cells": [
  {
   "cell_type": "markdown",
   "metadata": {},
   "source": [
    "# Multilayer Perceptron Visualization\n",
    "### Joseph Coston & Douglas Newquist\n",
    "Final Project for CSE 489 Machine Learning\n",
    "\n",
    "11/13/2021"
   ]
  },
  {
   "cell_type": "code",
   "execution_count": 2,
   "metadata": {},
   "outputs": [],
   "source": [
    "# standard imports\n",
    "import numpy as np\n",
    "import pandas as pd\n",
    "import matplotlib as mpl\n",
    "import matplotlib.pyplot as plt\n",
    "# project imports\n",
    "import generator\n",
    "import mlp"
   ]
  },
  {
   "cell_type": "code",
   "execution_count": 3,
   "metadata": {},
   "outputs": [],
   "source": [
    "# generate some random datapoints\n",
    "N = 100\n",
    "pc = generator.pointCloud2D(f = lambda x,y : (x+y-1 > 0), n=N)"
   ]
  },
  {
   "cell_type": "code",
   "execution_count": 4,
   "metadata": {},
   "outputs": [
    {
     "data": {
      "text/plain": [
       "Text(0.5, 0.98, 'Actual Point Output Values')"
      ]
     },
     "execution_count": 4,
     "metadata": {},
     "output_type": "execute_result"
    },
    {
     "data": {
      "image/png": "[encoded data removed]",
      "text/plain": [
       "<Figure size 432x288 with 1 Axes>"
      ]
     },
     "metadata": {
      "needs_background": "light"
     },
     "output_type": "display_data"
    }
   ],
   "source": [
    "# plot the liearly separable distribution\n",
    "fig, ax = pc.to_fig()\n",
    "fig.suptitle('Actual Point Output Values')"
   ]
  },
  {
   "cell_type": "code",
   "execution_count": 5,
   "metadata": {},
   "outputs": [
    {
     "name": "stdout",
     "output_type": "stream",
     "text": [
      "False\n"
     ]
    }
   ],
   "source": [
    "# Example linear perceptron describing the line (x + y > 0)\n",
    "s1 = mlp.Neuron(2, lambda x: x > 0, 0)\n",
    "print(s1.evaluate((pc.data['x'][0],pc.data['y'][0])))"
   ]
  },
  {
   "cell_type": "code",
   "execution_count": 6,
   "metadata": {},
   "outputs": [
    {
     "data": {
      "text/plain": [
       "Text(0, 0.5, 'y')"
      ]
     },
     "execution_count": 6,
     "metadata": {},
     "output_type": "execute_result"
    },
    {
     "data": {
      "image/png": "[encoded data removed]",
      "text/plain": [
       "<Figure size 432x288 with 1 Axes>"
      ]
     },
     "metadata": {
      "needs_background": "light"
     },
     "output_type": "display_data"
    }
   ],
   "source": [
    "size = 100\n",
    "X = []\n",
    "Y = []\n",
    "\n",
    "for y in np.linspace(-10, 10, size):\n",
    "\tfor x in np.linspace(-10, 10, size):\n",
    "\t\tif s1.evaluate((x, y)):\n",
    "\t\t\tX.append(x)\n",
    "\t\t\tY.append(y)\n",
    "\n",
    "plt.title(\"Visualization of s1 Neuron\")\n",
    "plt.scatter(X, Y)\n",
    "plt.axvline(0, color=\"black\")\n",
    "plt.axhline(0, color=\"black\")\n",
    "plt.xlabel(\"x\")\n",
    "plt.ylabel(\"y\")\n"
   ]
  },
  {
   "cell_type": "code",
   "execution_count": 7,
   "metadata": {},
   "outputs": [
    {
     "data": {
      "text/plain": [
       "[0.5111861251894433,\n",
       " 0.7234552749787201,\n",
       " 0.30494996950718556,\n",
       " 0.2315756653660212,\n",
       " 0.6506847484430098,\n",
       " 0.29326063512439987,\n",
       " 0.6200378953932193,\n",
       " 0.7037105903099796,\n",
       " 0.41102035703784534,\n",
       " 0.7155097167694741,\n",
       " 0.5337077181117752,\n",
       " 0.4340358713745532,\n",
       " 0.6270973528435853,\n",
       " 0.7660855726674023,\n",
       " 0.37988797504773947,\n",
       " 0.5443007716326479,\n",
       " 0.27690951666693137,\n",
       " 0.2527873228917293,\n",
       " 0.2412175518522439,\n",
       " 0.5581419701222216,\n",
       " 0.628174138347146,\n",
       " 0.243092081657378,\n",
       " 0.5083699725258829,\n",
       " 0.7729879935546365,\n",
       " 0.5022524970914078,\n",
       " 0.822103251669893,\n",
       " 0.7269657261910919,\n",
       " 0.5379282806979461,\n",
       " 0.5057345955660064,\n",
       " 0.35973309318366514,\n",
       " 0.37928293513706707,\n",
       " 0.8753699996167803,\n",
       " 0.6064035864213906,\n",
       " 0.6715581777384992,\n",
       " 0.10554436194546847,\n",
       " 0.4225188889669388,\n",
       " 0.5165318417847493,\n",
       " 0.9243461119120935,\n",
       " 0.5657602433006235,\n",
       " 0.6172015418958186,\n",
       " 0.8076146163644551,\n",
       " 0.21211661557293074,\n",
       " 0.16583344268128397,\n",
       " 0.8896790970604916,\n",
       " 0.7079423151561396,\n",
       " 0.41904317974454725,\n",
       " 0.40852603513813407,\n",
       " 0.590813606723972,\n",
       " 0.27930415240278306,\n",
       " 0.6617217254427348,\n",
       " 0.6641798077668931,\n",
       " 0.6291794923178298,\n",
       " 0.9356336049581817,\n",
       " 0.8984904887002779,\n",
       " 0.34769126778867576,\n",
       " 0.6017488796189903,\n",
       " 0.7456226848646974,\n",
       " 0.42923893361034565,\n",
       " 0.7956041491827336,\n",
       " 0.8487172576729421,\n",
       " 0.7937651968523174,\n",
       " 0.7157656609414407,\n",
       " 0.8666104355313766,\n",
       " 0.15375090804841787,\n",
       " 0.547771078996001,\n",
       " 0.7037048006249448,\n",
       " 0.3619691410800855,\n",
       " 0.29674546148302233,\n",
       " 0.7159814524211424,\n",
       " 0.6784903923540818,\n",
       " 0.6084753654307198,\n",
       " 0.41041045428175915,\n",
       " 0.15977980203269312,\n",
       " 0.6717621152462722,\n",
       " 0.36873213522181636,\n",
       " 0.41586452425150955,\n",
       " 0.7011248021536314,\n",
       " 0.5997295083283429,\n",
       " 0.7110047140460165,\n",
       " 0.8543150175232359,\n",
       " 0.6271436917441023,\n",
       " 0.5925190554965696,\n",
       " 0.5744905990272063,\n",
       " 0.44064584000235807,\n",
       " 0.37342870396571676,\n",
       " 0.20182454484946727,\n",
       " 0.4545502217534656,\n",
       " 0.42932737209955546,\n",
       " 0.41994848953341296,\n",
       " 0.7569184719456021,\n",
       " 0.33406988808492544,\n",
       " 0.6115599105856332,\n",
       " 0.84150300213013,\n",
       " 0.6720860795203283,\n",
       " 0.6617712881564974,\n",
       " 0.8095865690823049,\n",
       " 0.5236044725826905,\n",
       " 0.37108951299508997,\n",
       " 0.279591273657394,\n",
       " 0.7429378593868168]"
      ]
     },
     "execution_count": 7,
     "metadata": {},
     "output_type": "execute_result"
    }
   ],
   "source": [
    "l1 = mlp.Layer(N, 2, mlp.sigmoid)\n",
    "l1.evalute(pc.data['x'].to_list())"
   ]
  },
  {
   "cell_type": "code",
   "execution_count": 3,
   "metadata": {},
   "outputs": [
    {
     "data": {
      "text/plain": [
       "[False]"
      ]
     },
     "execution_count": 3,
     "metadata": {},
     "output_type": "execute_result"
    }
   ],
   "source": [
    "# Triangle with points (2,2), (4,4), (6,2)\n",
    "line1 = mlp.Neuron([1, -1], lambda x: x >= 0, 0) # x - y >= 0\n",
    "line2 = mlp.Neuron([0, 1], lambda x: x >= 0, -2) # y >= 2\n",
    "line3 = mlp.Neuron([-1, -1], lambda x: x >= 0, 8) # -x -y + 8 >= 0\n",
    "\n",
    "layer1 = mlp.Layer([line1, line2, line3])\n",
    "\n",
    "all_neuron = mlp.Neuron([1,1,1], lambda x: x > 0, -2)\n",
    "layer2 = mlp.Layer([all_neuron])\n",
    "\n",
    "triangle = mlp.NeuralNetwork([layer1, layer2])\n",
    "triangle.evalute((1, 1))"
   ]
  }
 ],
 "metadata": {
  "interpreter": {
   "hash": "9bd32917da3f796ba057fa35ad3e03810b33cd6d3221f1ee265611c33147f53b"
  },
  "kernelspec": {
   "display_name": "Python 3.8.3 64-bit ('base': conda)",
   "language": "python",
   "name": "python3"
  },
  "language_info": {
   "codemirror_mode": {
    "name": "ipython",
    "version": 3
   },
   "file_extension": ".py",
   "mimetype": "text/x-python",
   "name": "python",
   "nbconvert_exporter": "python",
   "pygments_lexer": "ipython3",
   "version": "3.8.10"
  },
  "orig_nbformat": 4
 },
 "nbformat": 4,
 "nbformat_minor": 2
}
