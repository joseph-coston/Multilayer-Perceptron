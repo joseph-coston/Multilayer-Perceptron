{
 "cells": [
  {
   "cell_type": "markdown",
   "metadata": {},
   "source": [
    "# Multilayer Perceptron Visualization\n",
    "### Joseph Coston & Douglas Newquist\n",
    "Final Project for CSE 489 Machine Learning\n",
    "\n",
    "11/13/2021"
   ]
  },
  {
   "cell_type": "code",
   "execution_count": null,
   "metadata": {},
   "outputs": [],
   "source": [
    "# standard imports\n",
    "import math\n",
    "import matplotlib as mpl\n",
    "import matplotlib.pyplot as plt\n",
    "import numpy as np\n",
    "import pandas as pd\n",
    "# project imports\n",
    "import generator\n",
    "import mlp"
   ]
  },
  {
   "cell_type": "code",
   "execution_count": null,
   "metadata": {},
   "outputs": [],
   "source": [
    "# generate some random datapoints\n",
    "N = 100\n",
    "pc = generator.pointCloud2D(f = lambda x,y : (x+y-1 > 0), n=N)"
   ]
  },
  {
   "cell_type": "code",
   "execution_count": null,
   "metadata": {},
   "outputs": [],
   "source": [
    "# plot the liearly separable distribution\n",
    "fig, ax = pc.to_fig()\n",
    "fig.suptitle('Actual Point Output Values')"
   ]
  },
  {
   "cell_type": "code",
   "execution_count": null,
   "metadata": {},
   "outputs": [],
   "source": [
    "# Example linear perceptron describing the line (x + y > 0)\n",
    "s1 = mlp.Neuron([1,1], lambda x: x > 0, 0)\n",
    "s1.evaluate((pc.data['x'][0],pc.data['y'][0]))"
   ]
  },
  {
   "cell_type": "code",
   "execution_count": null,
   "metadata": {},
   "outputs": [],
   "source": [
    "# visualize the output space\n",
    "def visualize(o, dim, scale, mode='flatten'):\n",
    "    if isinstance(o,mlp.Neuron):\n",
    "        plt.imshow(o.get_matrix(dim, scale), origin='lower')\n",
    "    elif isinstance(o, mlp.Layer):\n",
    "        plt.imshow(o.get_matrix(dim, scale, mode), origin='lower')\n",
    "    ax = plt.gca()\n",
    "    ax.set_xlabel('x')\n",
    "    ax.set_ylabel('y')\n",
    "    # ax.set_xticklabels(np.arange(-dim*scale/2,dim*scale/2,dim*scale/10), rotation=45)\n",
    "    plt.locator_params(axis=\"x\", nbins=10)\n",
    "    plt.locator_params(axis=\"y\", nbins=10)\n",
    "    ax.set_xticklabels((ax.get_xticks()-dim/2)*scale, rotation = 45)\n",
    "    ax.set_yticklabels((ax.get_yticks()-dim/2)*scale, rotation = 45)"
   ]
  },
  {
   "cell_type": "code",
   "execution_count": null,
   "metadata": {},
   "outputs": [],
   "source": [
    "visualize(s1, 400, 0.05)"
   ]
  },
  {
   "cell_type": "code",
   "execution_count": null,
   "metadata": {},
   "outputs": [],
   "source": [
    "size = 100\n",
    "X = []\n",
    "Y = []\n",
    "\n",
    "for y in np.linspace(-10, 10, size):\n",
    "\tfor x in np.linspace(-10, 10, size):\n",
    "\t\tif s1.evaluate((x, y)):\n",
    "\t\t\tX.append(x)\n",
    "\t\t\tY.append(y)\n",
    "\n",
    "plt.title(\"Visualization of s1 Neuron\")\n",
    "plt.scatter(X, Y)\n",
    "plt.axvline(0, color=\"black\")\n",
    "plt.axhline(0, color=\"black\")\n",
    "plt.xlabel(\"x\")\n",
    "plt.ylabel(\"y\")\n"
   ]
  },
  {
   "cell_type": "code",
   "execution_count": null,
   "metadata": {},
   "outputs": [],
   "source": [
    "l1 = mlp.Layer(N, 2, mlp.sigmoid)\n",
    "l1.evalute(pc.data['x'].to_list())"
   ]
  },
  {
   "cell_type": "code",
   "execution_count": null,
   "metadata": {},
   "outputs": [],
   "source": [
    "# Triangle with points (2,2), (4,4), (6,2)\n",
    "line1 = mlp.Neuron([1, -1], lambda x: x >= 0, 0) # x - y >= 0\n",
    "line2 = mlp.Neuron([0, 1], lambda x: x >= 0, -2) # y >= 2\n",
    "line3 = mlp.Neuron([-1, -1], lambda x: x >= 0, 8) # -x -y + 8 >= 0\n",
    "\n",
    "layer1 = mlp.Layer([line1, line2, line3])\n",
    "\n",
    "all_neuron = mlp.Neuron([1,1,1], lambda x: x > 0, -2)\n",
    "layer2 = mlp.Layer([all_neuron])\n",
    "\n",
    "triangle = mlp.NeuralNetwork([layer1, layer2])\n",
    "triangle.evalute((1, 1))"
   ]
  },
  {
   "cell_type": "code",
   "execution_count": null,
   "metadata": {},
   "outputs": [],
   "source": [
    "# visualize the output space\n",
    "visualize(layer1, 400, 0.05)"
   ]
  },
  {
   "cell_type": "code",
   "execution_count": null,
   "metadata": {},
   "outputs": [],
   "source": [
    "def plot2D_network(n, x_range, y_range):\n",
    "\tfor group in range(n.output_size):\n",
    "\t\tX = []\n",
    "\t\tY = []\n",
    "\t\tfor x in np.linspace(*x_range):\n",
    "\t\t\tfor y in np.linspace(*y_range):\n",
    "\t\t\t\tif n.evalute((x, y))[group]:\n",
    "\t\t\t\t\tX.append(x)\n",
    "\t\t\t\t\tY.append(y)\n",
    "\t\tplt.scatter(X, Y)\n",
    "\tplt.axhline(0, color=\"black\")\n",
    "\tplt.axvline(0, color=\"black\")"
   ]
  },
  {
   "cell_type": "code",
   "execution_count": null,
   "metadata": {},
   "outputs": [],
   "source": [
    "plot2D_network(triangle, (0, 10, 100), (0, 10, 100))"
   ]
  },
  {
   "cell_type": "code",
   "execution_count": null,
   "metadata": {},
   "outputs": [],
   "source": [
    "line1 = mlp.Neuron([1, 1], lambda x: math.sin(x) > 0, 0) # sin(x+y) > 0\n",
    "line2 = mlp.Neuron([1, -1], lambda x: math.sin(x) > 0, 0) # sin(x-y) > 0\n",
    "\n",
    "layer1 = mlp.Layer([line1, line2])\n",
    "\n",
    "none_neuron = mlp.Neuron([-1, -1], lambda x: x > 0, 1)\n",
    "all_neuron = mlp.Neuron([1, 1], lambda x: x > 0, -1)\n",
    "\n",
    "layer2 = mlp.Layer([all_neuron, none_neuron])\n",
    "\n",
    "random_net = mlp.NeuralNetwork([layer1, layer2])\n",
    "plot2D_network(random_net, (-5, 5, 100), (-5, 5, 100))\n"
   ]
  }
 ],
 "metadata": {
  "interpreter": {
   "hash": "9bd32917da3f796ba057fa35ad3e03810b33cd6d3221f1ee265611c33147f53b"
  },
  "kernelspec": {
   "display_name": "Python 3.8.3 64-bit ('base': conda)",
   "language": "python",
   "name": "python3"
  },
  "language_info": {
   "codemirror_mode": {
    "name": "ipython",
    "version": 3
   },
   "file_extension": ".py",
   "mimetype": "text/x-python",
   "name": "python",
   "nbconvert_exporter": "python",
   "pygments_lexer": "ipython3",
   "version": "3.8.10"
  },
  "orig_nbformat": 4
 },
 "nbformat": 4,
 "nbformat_minor": 2
}
