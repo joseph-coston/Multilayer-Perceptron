{
 "cells": [
  {
   "cell_type": "markdown",
   "metadata": {},
   "source": [
    "# Multilayer Perceptron Visualization\n",
    "### Joseph Coston & Douglas Newquist\n",
    "Final Project for CSE 489 Machine Learning\n",
    "\n",
    "11/13/2021"
   ]
  },
  {
   "cell_type": "code",
   "execution_count": 68,
   "metadata": {},
   "outputs": [],
   "source": [
    "# standard imports\n",
    "import numpy as np\n",
    "import pandas as pd\n",
    "import matplotlib as mpl\n",
    "import matplotlib.pyplot as plt\n",
    "# project imports\n",
    "import generator\n",
    "import mlp"
   ]
  },
  {
   "cell_type": "code",
   "execution_count": 69,
   "metadata": {},
   "outputs": [],
   "source": [
    "# generate some random datapoints\n",
    "N = 100\n",
    "pc = generator.pointCloud2D(f = lambda x,y : (x+y-1 > 0), n=N)"
   ]
  },
  {
   "cell_type": "code",
   "execution_count": 70,
   "metadata": {},
   "outputs": [
    {
     "data": {
      "text/plain": [
       "Text(0.5, 0.98, 'Actual Point Output Values')"
      ]
     },
     "execution_count": 70,
     "metadata": {},
     "output_type": "execute_result"
    },
    {
     "data": {
      "image/png": "[encoded data removed]",
      "text/plain": [
       "<Figure size 432x288 with 1 Axes>"
      ]
     },
     "metadata": {
      "needs_background": "light"
     },
     "output_type": "display_data"
    }
   ],
   "source": [
    "# plot the liearly separable distribution\n",
    "fig, ax = pc.to_fig()\n",
    "fig.suptitle('Actual Point Output Values')"
   ]
  },
  {
   "cell_type": "code",
   "execution_count": 71,
   "metadata": {},
   "outputs": [
    {
     "name": "stdout",
     "output_type": "stream",
     "text": [
      "True\n"
     ]
    }
   ],
   "source": [
    "# Example linear perceptron describing the line (x + y > 0)\n",
    "s1 = mlp.Neuron(2, lambda x: x > 0, 0)\n",
    "print(s1.evaluate((pc.data['x'][0],pc.data['y'][0])))"
   ]
  },
  {
   "cell_type": "code",
   "execution_count": 72,
   "metadata": {},
   "outputs": [
    {
     "data": {
      "text/plain": [
       "Text(0, 0.5, 'y')"
      ]
     },
     "execution_count": 72,
     "metadata": {},
     "output_type": "execute_result"
    },
    {
     "data": {
      "image/png": "[encoded data removed]",
      "text/plain": [
       "<Figure size 432x288 with 1 Axes>"
      ]
     },
     "metadata": {
      "needs_background": "light"
     },
     "output_type": "display_data"
    }
   ],
   "source": [
    "size = 100\n",
    "X = []\n",
    "Y = []\n",
    "\n",
    "for y in np.linspace(-10, 10, size):\n",
    "\tfor x in np.linspace(-10, 10, size):\n",
    "\t\tif s1.evaluate((x, y)):\n",
    "\t\t\tX.append(x)\n",
    "\t\t\tY.append(y)\n",
    "\n",
    "plt.title(\"Visualization of s1 Neuron\")\n",
    "plt.scatter(X, Y)\n",
    "plt.axvline(0, color=\"black\")\n",
    "plt.axhline(0, color=\"black\")\n",
    "plt.xlabel(\"x\")\n",
    "plt.ylabel(\"y\")\n"
   ]
  },
  {
   "cell_type": "code",
   "execution_count": 73,
   "metadata": {},
   "outputs": [
    {
     "data": {
      "text/plain": [
       "[0.4388632441946754,\n",
       " 0.5261732991091391,\n",
       " 0.4490526849427957,\n",
       " 0.69511069488358,\n",
       " 0.3412208651437814,\n",
       " 0.39099024040498775,\n",
       " 0.761754781943128,\n",
       " 0.3989116788569685,\n",
       " 0.41285790876874484,\n",
       " 0.5927691234882834,\n",
       " 0.29950779255858484,\n",
       " 0.8167098295785344,\n",
       " 0.40887864117561706,\n",
       " 0.6241881359773147,\n",
       " 0.5689003265035667,\n",
       " 0.38106382214954493,\n",
       " 0.26182715380099103,\n",
       " 0.45108974013616815,\n",
       " 0.6074794703254119,\n",
       " 0.4039808693162574,\n",
       " 0.43053320479023527,\n",
       " 0.4919443950271801,\n",
       " 0.42292268252125653,\n",
       " 0.7631749227936544,\n",
       " 0.25300063332570527,\n",
       " 0.3039300689557845,\n",
       " 0.4004815666087591,\n",
       " 0.6997807601211448,\n",
       " 0.42651983086335926,\n",
       " 0.32816307536781636,\n",
       " 0.39056689333411,\n",
       " 0.5163789732343009,\n",
       " 0.5066241519565452,\n",
       " 0.7828810415897736,\n",
       " 0.685189792227766,\n",
       " 0.5003556952743327,\n",
       " 0.537452770922512,\n",
       " 0.3998929854573598,\n",
       " 0.43668644307486554,\n",
       " 0.5571852938469743,\n",
       " 0.5702164649251278,\n",
       " 0.6092517821978941,\n",
       " 0.7566210961037385,\n",
       " 0.34097585678791437,\n",
       " 0.806598572390739,\n",
       " 0.6144583234996752,\n",
       " 0.5641117434541939,\n",
       " 0.6608120097402234,\n",
       " 0.2481249451142214,\n",
       " 0.2821898891794127,\n",
       " 0.5835873274950911,\n",
       " 0.4203473054465317,\n",
       " 0.6758351727598596,\n",
       " 0.6156368384412527,\n",
       " 0.6646399209465396,\n",
       " 0.44039247133619497,\n",
       " 0.400054579619227,\n",
       " 0.5128073466588515,\n",
       " 0.5838632786941043,\n",
       " 0.6329448708448362,\n",
       " 0.8341405504241103,\n",
       " 0.583273939755951,\n",
       " 0.589154093433048,\n",
       " 0.4444260808136853,\n",
       " 0.3047787687856936,\n",
       " 0.6135429804876412,\n",
       " 0.5927627772725257,\n",
       " 0.5297075652685018,\n",
       " 0.6259003982876252,\n",
       " 0.6114387115362601,\n",
       " 0.3970480071335974,\n",
       " 0.40886747137575424,\n",
       " 0.4654746903496031,\n",
       " 0.3789118806359076,\n",
       " 0.5307676238465582,\n",
       " 0.6523393876305553,\n",
       " 0.36729333977911055,\n",
       " 0.39445262854688423,\n",
       " 0.7639874897559679,\n",
       " 0.39479863570219464,\n",
       " 0.5975698402202834,\n",
       " 0.6285408874348344,\n",
       " 0.693729642095898,\n",
       " 0.5759749655585289,\n",
       " 0.3766485572205109,\n",
       " 0.2812600450456427,\n",
       " 0.2692648717459257,\n",
       " 0.3025239875387877,\n",
       " 0.33555922009562766,\n",
       " 0.5168011978334921,\n",
       " 0.5470263345221458,\n",
       " 0.6388457600310977,\n",
       " 0.6467459609489065,\n",
       " 0.3140880652094264,\n",
       " 0.30602903655744573,\n",
       " 0.6565073865318574,\n",
       " 0.8044996827142705,\n",
       " 0.320554287751965,\n",
       " 0.3180826857857235,\n",
       " 0.34622086527152596]"
      ]
     },
     "execution_count": 73,
     "metadata": {},
     "output_type": "execute_result"
    }
   ],
   "source": [
    "l1 = mlp.Layer(N, 2, mlp.sigmoid)\n",
    "l1.evalute(pc.data['x'].to_list())"
   ]
  }
 ],
 "metadata": {
  "interpreter": {
   "hash": "9bd32917da3f796ba057fa35ad3e03810b33cd6d3221f1ee265611c33147f53b"
  },
  "kernelspec": {
   "display_name": "Python 3.8.3 64-bit ('base': conda)",
   "language": "python",
   "name": "python3"
  },
  "language_info": {
   "codemirror_mode": {
    "name": "ipython",
    "version": 3
   },
   "file_extension": ".py",
   "mimetype": "text/x-python",
   "name": "python",
   "nbconvert_exporter": "python",
   "pygments_lexer": "ipython3",
   "version": "3.8.10"
  },
  "orig_nbformat": 4
 },
 "nbformat": 4,
 "nbformat_minor": 2
}
