{
 "cells": [
  {
   "cell_type": "markdown",
   "metadata": {},
   "source": [
    "# Multilayer Perceptron Visualization\n",
    "### Joseph Coston & Douglas Newquist\n",
    "Final Project for CSE 489 Machine Learning\n",
    "\n",
    "11/13/2021"
   ]
  },
  {
   "cell_type": "code",
   "execution_count": null,
   "metadata": {},
   "outputs": [],
   "source": [
    "# standard imports\n",
    "import math\n",
    "import matplotlib as mpl\n",
    "import matplotlib.pyplot as plt\n",
    "import numpy as np\n",
    "import pandas as pd\n",
    "# project imports\n",
    "import generator\n",
    "import mlp"
   ]
  },
  {
   "cell_type": "code",
   "execution_count": null,
   "metadata": {},
   "outputs": [],
   "source": [
    "# generate some random datapoints\n",
    "N = 100\n",
    "pc = generator.pointCloud2D(f = lambda x,y : (x+y-1 > 0), n=N)"
   ]
  },
  {
   "cell_type": "code",
   "execution_count": null,
   "metadata": {},
   "outputs": [],
   "source": [
    "# plot the liearly separable distribution\n",
    "fig, ax = pc.to_fig()\n",
    "fig.suptitle('Actual Point Output Values')"
   ]
  },
  {
   "cell_type": "code",
   "execution_count": null,
   "metadata": {},
   "outputs": [],
   "source": [
    "# Example linear perceptron describing the line (x + y > 0)\n",
    "s1 = mlp.Neuron([1,1.5], lambda x: x > 0, 0)\n",
    "s1.evaluate((pc.data['x'][0],pc.data['y'][0]))"
   ]
  },
  {
   "cell_type": "code",
   "execution_count": null,
   "metadata": {},
   "outputs": [],
   "source": [
    "# visualize the output space\n",
    "def visualize(o, dim, scale, offset=(0,0), mode='flatten'):\n",
    "    fig = plt.gcf()\n",
    "    fig.set_size_inches(6, 6)\n",
    "    if isinstance(o,mlp.Neuron) or isinstance(o, mlp.NeuralNetwork):\n",
    "        plt.imshow(np.array(o.get_matrix(dim, scale, offset)).T, origin='lower')\n",
    "    elif isinstance(o, mlp.Layer):\n",
    "        plt.imshow(np.array(o.get_matrix(dim, scale, mode)).T, origin='lower')\n",
    "    ax = plt.gca()\n",
    "    ax.set_xlabel('x')\n",
    "    ax.set_ylabel('y')\n",
    "    plt.locator_params(axis=\"x\", nbins=10)\n",
    "    plt.locator_params(axis=\"y\", nbins=10)\n",
    "    ax.set_xticklabels((ax.get_xticks()-dim/2)*scale, rotation = 45)\n",
    "    ax.set_yticklabels((ax.get_yticks()-dim/2)*scale, rotation = 45)"
   ]
  },
  {
   "cell_type": "code",
   "execution_count": null,
   "metadata": {},
   "outputs": [],
   "source": [
    "visualize(s1, 400, 0.05)"
   ]
  },
  {
   "cell_type": "code",
   "execution_count": null,
   "metadata": {},
   "outputs": [],
   "source": [
    "# Triangle with points (2,2), (4,4), (6,2)\n",
    "line1 = mlp.Neuron([1, -1], lambda x: x >= 0, 0) # x - y >= 0\n",
    "line2 = mlp.Neuron([0, 1], lambda x: x >= 0, -2) # y >= 2\n",
    "line3 = mlp.Neuron([-1, -1], lambda x: x >= 0, 8) # -x -y + 8 >= 0\n",
    "\n",
    "layer1 = mlp.Layer([line1, line2, line3])\n",
    "\n",
    "all_neuron = mlp.Neuron([1,1,1], lambda x: x > 0, -2)\n",
    "layer2 = mlp.Layer([all_neuron])\n",
    "visualize(layer1, 400, 0.05, mode='add') # visualize the hidden layer\n",
    "\n",
    "triangle = mlp.NeuralNetwork([layer1, layer2])\n",
    "triangle.evaluate((1, 1), True)"
   ]
  },
  {
   "cell_type": "code",
   "execution_count": null,
   "metadata": {},
   "outputs": [],
   "source": [
    "# visualize the output space\n",
    "visualize(triangle, 400, 0.01, offset=(4,3))"
   ]
  },
  {
   "cell_type": "code",
   "execution_count": null,
   "metadata": {},
   "outputs": [],
   "source": [
    "# square with vertices (-1,-1),(1,-1),(-1,1),(1,1)\n",
    "line1 = mlp.Neuron([ 0,-1], lambda x: x >= 0, 1) #-y >= -1\n",
    "line2 = mlp.Neuron([ 0, 1], lambda x: x >= 0, 1) # y >= -1\n",
    "line3 = mlp.Neuron([-1, 0], lambda x: x >= 0, 1) #-x >= -1\n",
    "line4 = mlp.Neuron([ 1, 0], lambda x: x >= 0, 1) # x >= -1\n",
    "\n",
    "layer1 = mlp.Layer([line1, line2, line3, line4])  \n",
    "\n",
    "all_neuron = mlp.Neuron([1,1,1,1], lambda x: x > 0, -3) # AND all lines\n",
    "layer2 = mlp.Layer([all_neuron])\n",
    "visualize(layer1, 400, 0.01, mode='add') # visualize the hidden layer\n",
    "\n",
    "\n",
    "square = mlp.NeuralNetwork([layer1, layer2])\n",
    "square.evaluate((1, 1), True)\n"
   ]
  },
  {
   "cell_type": "code",
   "execution_count": null,
   "metadata": {},
   "outputs": [],
   "source": [
    "# visualize the output space\n",
    "visualize(square, 400, 0.01)"
   ]
  },
  {
   "cell_type": "code",
   "execution_count": null,
   "metadata": {},
   "outputs": [],
   "source": [
    "# try more convex shapes \n",
    "# attempt complex shapes (chevron)\n",
    "# attempt complex symbol\n",
    "# linear activation functions\n",
    "# possibly move to back prop later..."
   ]
  },
  {
   "cell_type": "code",
   "execution_count": null,
   "metadata": {},
   "outputs": [],
   "source": [
    "# points (-2,0),(2,0),(4,4),(-4,4) and (-2,0),(2,0),(4,-4),(-4,-4)\n",
    "\n",
    "L1 = mlp.Neuron([0, 1], lambda x: x <= 0, -4)   # y <= 4\n",
    "L2 = mlp.Neuron([-2, -1], lambda x: x <= 0, -4) # -2x -y -4 <= 0\n",
    "L3 = mlp.Neuron([2, -1], lambda x: x <= 0, -4)  # 2x -y -4 <= 0 \n",
    "L4 = mlp.Neuron([0, 1], lambda x: x >= 0, 0)    # y >= 0\n",
    "L5 = mlp.Neuron([0, -1], lambda x: x > 0, 0)\n",
    "L6 = mlp.Neuron([2, -1], lambda x: x >= 0, 4)   # 2x -y + 4 >= 0\n",
    "L7 = mlp.Neuron([-2, -1], lambda x: x >= 0, 4)  # -2x -y + 4 >= 0\n",
    "L8 = mlp.Neuron([0, 1], lambda x: x >= 0, 4)    # y >= -4\n",
    "\n",
    "hourglass_lines = mlp.Layer([L1, L2, L3, L4, L5, L6, L7, L8])\n",
    "visualize(hourglass_lines, 400, 0.05, mode='add')\n",
    "\n",
    "trap1 = mlp.Neuron([1, 1, 1, 1, 0, 0, 0, 0], lambda x: x > 0, -3) # AND(L1, L2, L3, L4)\n",
    "trap2 = mlp.Neuron([0, 0, 0, 0, 1, 1, 1, 1], lambda x: x > 0, -3) # AND(L5, L6, L7, L8)\n",
    "\n",
    "hourglass_shapes = mlp.Layer([trap1, trap2])\n",
    "\n",
    "or_neuron = mlp.Neuron([1, 1], lambda x: x > 0, 0)\n",
    "\n",
    "hourglass = mlp.NeuralNetwork([hourglass_lines, hourglass_shapes, or_neuron])\n",
    "hourglass.evaluate((0, -3), True)"
   ]
  },
  {
   "cell_type": "code",
   "execution_count": null,
   "metadata": {},
   "outputs": [],
   "source": [
    "visualize(hourglass, 400, 0.05)"
   ]
  },
  {
   "cell_type": "code",
   "execution_count": null,
   "metadata": {},
   "outputs": [],
   "source": [
    "# star with vertices (\n",
    "line1 = mlp.Neuron([  0,  1], lambda x: x <= 0, -1)   #        y - 1 <= 0\n",
    "line2 = mlp.Neuron([ -5,  2], lambda x: x <= 0, -4)   # -5x + 2y - 4 <= 0\n",
    "line3 = mlp.Neuron([  5,  2], lambda x: x <= 0, -4)   #  5x + 2y - 4 <= 0\n",
    "line4 = mlp.Neuron([ 10,-14], lambda x: x <= 0, -0.1) # 10x -14y -.1 <= 0\n",
    "line5 = mlp.Neuron([-10,-14], lambda x: x <= 0, -0.1) #-10x -14y -.1 <= 0\n",
    "\n",
    "layer1 = mlp.Layer([line1, line2, line3, line4, line5])\n",
    "\n",
    "all_neuron = mlp.Neuron([1,1,1,1,1], lambda x: x > 0, -3) # AND all partitions\n",
    "layer2 = mlp.Layer([all_neuron])\n",
    "visualize(layer1, 400, 0.01, mode='add') # visualize the hidden layer\n",
    "\n",
    "\n",
    "star = mlp.NeuralNetwork([layer1, layer2])\n",
    "star.evaluate((1, 1), True)\n"
   ]
  },
  {
   "cell_type": "code",
   "execution_count": null,
   "metadata": {},
   "outputs": [],
   "source": [
    "visualize(star, 400, 0.01, offset=(0,0.7))"
   ]
  },
  {
   "cell_type": "code",
   "execution_count": null,
   "metadata": {},
   "outputs": [],
   "source": [
    "# Points (0, 2), (6, 4), (6, 7), (0, 5), (-6, 7), (-6, 4)\n",
    "#    and (0,-2), (6,-3), (6, 0), (0,-5), (-6, 0), (-6,-3)\n",
    "\n",
    "L1 = mlp.Neuron([-1/3, -1], lambda x: x <= 0, 2)  # -1/3x - y + 2 <= 0\n",
    "L2 = mlp.Neuron([1/3, -1], lambda x: x <= 0, 2)   #  1/3x - y + 2 <= 0\n",
    "L3 = mlp.Neuron([-1/3, -1], lambda x: x >= 0, 5)  # -1/3x - y + 5 <= 0\n",
    "L4 = mlp.Neuron([1/3, -1], lambda x: x >= 0, 5)   #  1/3x - y + 5 <= 0\n",
    "L5 = mlp.Neuron([1, 0], lambda x: x <= 0, -6)     #  x <= 6\n",
    "L6 = mlp.Neuron([1, 0], lambda x: x >= 0, 6)      #  x >= -6\n",
    "L7 = mlp.Neuron([-1/3, -1], lambda x: x <= 0, -5) # -1/3x - y - 5 <= 0\n",
    "L8 = mlp.Neuron([1/3, -1], lambda x: x <= 0, -5)  #  1/3x - y - 5 <= 0\n",
    "L9 = mlp.Neuron([-1/3, -1], lambda x: x >= 0, -2) # -1/3x - y - 2 >= 0\n",
    "L10= mlp.Neuron([1/3, -1], lambda x: x >= 0, -2)  #  1/3x - y - 2 >= 0\n",
    "\n",
    "chevron_lines = mlp.Layer([L1, L2, L3, L4, L5, L6, L7, L8, L9, L10])\n",
    "visualize(chevron_lines, 400, 0.05, mode=\"add\")\n",
    "\n",
    "L1_and_L2 = mlp.Neuron([1, 1, 0, 0, 0, 0, 0, 0, 0, 0], lambda x: x > 0, -1)\n",
    "L3_or_l4  = mlp.Neuron([0, 0, 1, 1, 0, 0, 0, 0, 0, 0], lambda x: x > 0, 0)\n",
    "L5_and_l6 = mlp.Neuron([0, 0, 0, 0, 1, 1, 0, 0, 0, 0], lambda x: x > 0, -1)\n",
    "L7_and_L8 = mlp.Neuron([0, 0, 0, 0, 0, 0, 1, 1, 0, 0], lambda x: x > 0, -1)\n",
    "L9_or_L10 = mlp.Neuron([0, 0, 0, 0, 0, 0, 0, 0, 1, 1], lambda x: x > 0, 0)\n",
    "\n",
    "chevron_regions = mlp.Layer([L1_and_L2, L3_or_l4, L5_and_l6, L7_and_L8, L9_or_L10])\n",
    "\n",
    "A = mlp.Neuron([1, 1, 1, 0, 0, 0], lambda x: x > 0, -2)\n",
    "B = mlp.Neuron([0, 0, 1, 1, 1], lambda x: x > 0, -2)\n",
    "\n",
    "chevron_shapes = mlp.Layer([A, B])\n",
    "\n",
    "# True if either shape is detected\n",
    "chevron_shape = mlp.Neuron([1, 1], lambda x: x > 0, 0)\n",
    "\n",
    "chevron = mlp.NeuralNetwork([chevron_lines, chevron_regions, chevron_shapes, chevron_shape])\n",
    "chevron.evaluate((0,-4), True)"
   ]
  },
  {
   "cell_type": "code",
   "execution_count": null,
   "metadata": {},
   "outputs": [],
   "source": [
    "# Render the second layer\n",
    "visualize(chevron.subnet(0, 2), 400, 0.05, mode=\"add\")"
   ]
  },
  {
   "cell_type": "code",
   "execution_count": null,
   "metadata": {},
   "outputs": [],
   "source": [
    "visualize(chevron, 400, 0.05)"
   ]
  },
  {
   "cell_type": "code",
   "execution_count": null,
   "metadata": {},
   "outputs": [],
   "source": [
    "# Points    (-5.4,0.9), (-8.8,-0.5), (-3.3,0.1),\n",
    "#           (-2.1,1.2), (-1.9,0.1), (-1.4,1.4),\n",
    "#           (0.2,-0.1), (2.3,1), (5,-0.5)\n",
    "\n",
    "L1 = mlp.Neuron([ 1.4,-3.3], lambda x: x >= 0, 10.9) #  1.4x - 3.3y + 10.9 <= 0\n",
    "L2 = mlp.Neuron([ 0.8, 2.1], lambda x: x <= 0,  2.7) #  0.8x + 2.1y +  2.7 >= 0\n",
    "L3 = mlp.Neuron([-1.1, 1.3], lambda x: x <= 0, -3.7) # -1.1x + 1.3y -  3.7 >= 0\n",
    "L4 = mlp.Neuron([ 0.2, 0.2], lambda x: x <= 0,  0.2) #  0.2x + 0.2y +  0.2 >= 0\n",
    "\n",
    "L5 = mlp.Neuron([0, 13.7], lambda x: x >= 0, 7.1)    #  0.0x +13.7y +  7.1 >= 0\n",
    "\n",
    "L6 = mlp.Neuron([-0.5, 0.5], lambda x: x <= 0, -1.4) # -0.5x + 0.5y -  1.4 <= 0\n",
    "L7 = mlp.Neuron([ 1.5, 1.6], lambda x: x <= 0, -0.2) #  1.5x + 1.6y -  0.2 <= 0\n",
    "L8 = mlp.Neuron([-1.1, 2.1], lambda x: x <= 0,  0.4) # -1.1x + 2.1y +  0.4 <= 0\n",
    "L9 = mlp.Neuron([ 1.5, 2.6], lambda x: x <= 0, -5.9) #  1.5x + 2.6y -  5.9 <= 0\n",
    "\n",
    "Mmountain_lines = mlp.Layer([L1, L2, L3, L4, L5, L6, L7, L8, L9])\n",
    "visualize(Mmountain_lines, 400, 0.05, mode=\"add\")\n",
    "\n",
    "L1_and_L2_and_L5 = mlp.Neuron([1, 1, 0, 0, 1, 0, 0, 0, 0], lambda x: x > 0, -2)\n",
    "L3_and_L4_and_L5 = mlp.Neuron([0, 0, 1, 1, 1, 0, 0, 0, 0], lambda x: x > 0, -2)\n",
    "L5_and_L6_and_L7 = mlp.Neuron([0, 0, 0, 0, 1, 1, 1, 0, 0], lambda x: x > 0, -2)\n",
    "L5_and_L8_and_L8 = mlp.Neuron([0, 0, 0, 0, 1, 0, 0, 1, 1], lambda x: x > 0, -2)\n",
    "\n",
    "Mmountain_peaks = mlp.Layer([L1_and_L2_and_L5, L3_and_L4_and_L5, L5_and_L6_and_L7, L5_and_L8_and_L8])\n",
    "\n",
    "or_all  = mlp.Neuron([1, 1, 1, 1], lambda x: x > 0, 0)\n",
    "\n",
    "Mmountain_shape = mlp.Layer([or_all])\n",
    "\n",
    "# # True if either shape is detected\n",
    "# chevron_shape = mlp.Neuron([1, 1], lambda x: x > 0, 0)\n",
    "\n",
    "Mmountain = mlp.NeuralNetwork([Mmountain_lines, Mmountain_peaks, Mmountain_shape])\n",
    "Mmountain.evaluate((0,-4), True)"
   ]
  },
  {
   "cell_type": "code",
   "execution_count": null,
   "metadata": {},
   "outputs": [],
   "source": [
    "visualize(Mmountain, 400, 0.04, offset=(-2,1))"
   ]
  },
  {
   "cell_type": "code",
   "execution_count": null,
   "metadata": {},
   "outputs": [],
   "source": []
  }
 ],
 "metadata": {
  "interpreter": {
   "hash": "9bd32917da3f796ba057fa35ad3e03810b33cd6d3221f1ee265611c33147f53b"
  },
  "kernelspec": {
   "display_name": "Python 3.8.3 64-bit ('base': conda)",
   "language": "python",
   "name": "python3"
  },
  "language_info": {
   "codemirror_mode": {
    "name": "ipython",
    "version": 3
   },
   "file_extension": ".py",
   "mimetype": "text/x-python",
   "name": "python",
   "nbconvert_exporter": "python",
   "pygments_lexer": "ipython3",
   "version": "3.8.10"
  },
  "orig_nbformat": 4
 },
 "nbformat": 4,
 "nbformat_minor": 2
}
