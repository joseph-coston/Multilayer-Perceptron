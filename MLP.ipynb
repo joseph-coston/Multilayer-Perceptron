{
 "cells": [
  {
   "cell_type": "markdown",
   "metadata": {},
   "source": [
    "# Multilayer Perceptron Visualization\n",
    "### Joseph Coston & Douglas Newquist\n",
    "Final Project for CSE 489 Machine Learning\n",
    "\n",
    "11/13/2021"
   ]
  },
  {
   "cell_type": "code",
   "execution_count": 1,
   "metadata": {},
   "outputs": [],
   "source": [
    "# standard imports\n",
    "import numpy as np\n",
    "import pandas as pd\n",
    "import matplotlib as mpl\n",
    "import matplotlib.pyplot as plt\n",
    "# project imports\n",
    "import generator\n",
    "import mlp"
   ]
  },
  {
   "cell_type": "code",
   "execution_count": 2,
   "metadata": {},
   "outputs": [],
   "source": [
    "# generate some random datapoints\n",
    "N = 100\n",
    "pc = generator.pointCloud2D(f = lambda x,y : (x+y-1 > 0), n=N)"
   ]
  },
  {
   "cell_type": "code",
   "execution_count": 3,
   "metadata": {},
   "outputs": [
    {
     "data": {
      "text/plain": [
       "Text(0.5, 0.98, 'Actual Point Output Values')"
      ]
     },
     "execution_count": 3,
     "metadata": {},
     "output_type": "execute_result"
    },
    {
     "data": {
      "image/png": "[encoded data removed]",
      "text/plain": [
       "<Figure size 432x288 with 1 Axes>"
      ]
     },
     "metadata": {
      "needs_background": "light"
     },
     "output_type": "display_data"
    }
   ],
   "source": [
    "# plot the liearly separable distribution\n",
    "fig, ax = pc.to_fig()\n",
    "fig.suptitle('Actual Point Output Values')"
   ]
  },
  {
   "cell_type": "code",
   "execution_count": 4,
   "metadata": {},
   "outputs": [
    {
     "data": {
      "text/plain": [
       "True"
      ]
     },
     "execution_count": 4,
     "metadata": {},
     "output_type": "execute_result"
    }
   ],
   "source": [
    "# Example linear perceptron describing the line (x + y > 0)\n",
    "s1 = mlp.Neuron([1,1], lambda x: x > 0, 0)\n",
    "s1.evaluate((pc.data['x'][0],pc.data['y'][0]))"
   ]
  },
  {
   "cell_type": "code",
   "execution_count": 5,
   "metadata": {},
   "outputs": [
    {
     "data": {
      "text/plain": [
       "<matplotlib.image.AxesImage at 0x229cd5bca60>"
      ]
     },
     "execution_count": 5,
     "metadata": {},
     "output_type": "execute_result"
    },
    {
     "data": {
      "image/png": "[encoded data removed]",
      "text/plain": [
       "<Figure size 432x288 with 1 Axes>"
      ]
     },
     "metadata": {
      "needs_background": "light"
     },
     "output_type": "display_data"
    }
   ],
   "source": [
    "# visualize the output space\n",
    "plt.imshow(s1.get_matrix(500), origin='lower')"
   ]
  },
  {
   "cell_type": "code",
   "execution_count": 6,
   "metadata": {},
   "outputs": [
    {
     "data": {
      "text/plain": [
       "Text(0, 0.5, 'y')"
      ]
     },
     "execution_count": 6,
     "metadata": {},
     "output_type": "execute_result"
    },
    {
     "data": {
      "image/png": "[encoded data removed]",
      "text/plain": [
       "<Figure size 432x288 with 1 Axes>"
      ]
     },
     "metadata": {
      "needs_background": "light"
     },
     "output_type": "display_data"
    }
   ],
   "source": [
    "size = 100\n",
    "X = []\n",
    "Y = []\n",
    "\n",
    "for y in np.linspace(-10, 10, size):\n",
    "\tfor x in np.linspace(-10, 10, size):\n",
    "\t\tif s1.evaluate((x, y)):\n",
    "\t\t\tX.append(x)\n",
    "\t\t\tY.append(y)\n",
    "\n",
    "plt.title(\"Visualization of s1 Neuron\")\n",
    "plt.scatter(X, Y)\n",
    "plt.axvline(0, color=\"black\")\n",
    "plt.axhline(0, color=\"black\")\n",
    "plt.xlabel(\"x\")\n",
    "plt.ylabel(\"y\")\n"
   ]
  },
  {
   "cell_type": "code",
   "execution_count": 7,
   "metadata": {},
   "outputs": [
    {
     "data": {
      "text/plain": [
       "[0.39172221980996547,\n",
       " 0.5360018135500627,\n",
       " 0.6463717007496572,\n",
       " 0.43352184085977863,\n",
       " 0.8369556367404003,\n",
       " 0.6927066482097497,\n",
       " 0.398348330095915,\n",
       " 0.5492211846577658,\n",
       " 0.7484569548216462,\n",
       " 0.7106538288942151,\n",
       " 0.24434013991838555,\n",
       " 0.27154150366025,\n",
       " 0.7196840335682541,\n",
       " 0.5504398973465469,\n",
       " 0.7637992545233635,\n",
       " 0.39661406669222876,\n",
       " 0.5412182381656601,\n",
       " 0.684666787182666,\n",
       " 0.7457906882580727,\n",
       " 0.6818769661398706,\n",
       " 0.18941513660932863,\n",
       " 0.7222704741079014,\n",
       " 0.2759624884738381,\n",
       " 0.28743416233161106,\n",
       " 0.6611070069808487,\n",
       " 0.4228223640874652,\n",
       " 0.2585786930160002,\n",
       " 0.2547197620412774,\n",
       " 0.7580030645862038,\n",
       " 0.18853900950632052,\n",
       " 0.3770928381858239,\n",
       " 0.6100045825693183,\n",
       " 0.37195107083231516,\n",
       " 0.7706447210039897,\n",
       " 0.5357097034746736,\n",
       " 0.4716205751319467,\n",
       " 0.8196668704113573,\n",
       " 0.1861375785012979,\n",
       " 0.5565153562817357,\n",
       " 0.8066457166809177,\n",
       " 0.7439698107252831,\n",
       " 0.5736049193576173,\n",
       " 0.6635821441768951,\n",
       " 0.5678586272624472,\n",
       " 0.6965987656956291,\n",
       " 0.4481640787902059,\n",
       " 0.7522843696467497,\n",
       " 0.7571792881950464,\n",
       " 0.7009616372750225,\n",
       " 0.7531533109210776,\n",
       " 0.4783811942443902,\n",
       " 0.3754347899469224,\n",
       " 0.5103448876445899,\n",
       " 0.23175205725342796,\n",
       " 0.37626733615394414,\n",
       " 0.3750619286058103,\n",
       " 0.7030270528757927,\n",
       " 0.2823486789200483,\n",
       " 0.5863649668846659,\n",
       " 0.5446911027058791,\n",
       " 0.19679502821613815,\n",
       " 0.40355082066174247,\n",
       " 0.7499550419160229,\n",
       " 0.7167025594816467,\n",
       " 0.6257401356812573,\n",
       " 0.6421940111857193,\n",
       " 0.41002986772952144,\n",
       " 0.4584319747458848,\n",
       " 0.37155441160937847,\n",
       " 0.32689483798806535,\n",
       " 0.6477077444602156,\n",
       " 0.5654976077002867,\n",
       " 0.6820100789191171,\n",
       " 0.42559601870683844,\n",
       " 0.4188586723855148,\n",
       " 0.5452648278770033,\n",
       " 0.5969298206904622,\n",
       " 0.373357803917151,\n",
       " 0.5176908512990842,\n",
       " 0.34878432607767784,\n",
       " 0.34539749454537855,\n",
       " 0.16091966927531265,\n",
       " 0.15811309320209377,\n",
       " 0.22449736035734585,\n",
       " 0.36921393112022755,\n",
       " 0.8588894505379356,\n",
       " 0.4198207947460542,\n",
       " 0.43988925025571973,\n",
       " 0.4081265231866403,\n",
       " 0.27906542412402163,\n",
       " 0.6904073580166845,\n",
       " 0.37964454912409906,\n",
       " 0.4342157599225838,\n",
       " 0.3027849455527593,\n",
       " 0.48134382712263984,\n",
       " 0.7340360581262665,\n",
       " 0.4754877602397479,\n",
       " 0.3312983055204773,\n",
       " 0.7913364199281678,\n",
       " 0.5359794334232629]"
      ]
     },
     "execution_count": 7,
     "metadata": {},
     "output_type": "execute_result"
    }
   ],
   "source": [
    "l1 = mlp.Layer(N, 2, mlp.sigmoid)\n",
    "l1.evalute(pc.data['x'].to_list())"
   ]
  },
  {
   "cell_type": "code",
   "execution_count": 8,
   "metadata": {},
   "outputs": [
    {
     "data": {
      "text/plain": [
       "[False]"
      ]
     },
     "execution_count": 8,
     "metadata": {},
     "output_type": "execute_result"
    }
   ],
   "source": [
    "# Triangle with points (2,2), (4,4), (6,2)\n",
    "line1 = mlp.Neuron([1, -1], lambda x: x >= 0, 0) # x - y >= 0\n",
    "line2 = mlp.Neuron([0, 1], lambda x: x >= 0, -2) # y >= 2\n",
    "line3 = mlp.Neuron([-1, -1], lambda x: x >= 0, 8) # -x -y + 8 >= 0\n",
    "\n",
    "layer1 = mlp.Layer([line1, line2, line3])\n",
    "\n",
    "all_neuron = mlp.Neuron([1,1,1], lambda x: x > 0, -2)\n",
    "layer2 = mlp.Layer([all_neuron])\n",
    "\n",
    "triangle = mlp.NeuralNetwork([layer1, layer2])\n",
    "triangle.evalute((1, 1))"
   ]
  },
  {
   "cell_type": "code",
   "execution_count": 9,
   "metadata": {},
   "outputs": [],
   "source": [
    "# TODO visualize ouptput space \n",
    "# TODO see that perceptrons correctly classify the random point clouds"
   ]
  },
  {
   "cell_type": "code",
   "execution_count": null,
   "metadata": {},
   "outputs": [],
   "source": []
  },
  {
   "cell_type": "code",
   "execution_count": 10,
   "metadata": {},
   "outputs": [
    {
     "ename": "TypeError",
     "evalue": "imshow() missing 1 required positional argument: 'X'",
     "output_type": "error",
     "traceback": [
      "\u001b[1;31m---------------------------------------------------------------------------\u001b[0m",
      "\u001b[1;31mTypeError\u001b[0m                                 Traceback (most recent call last)",
      "\u001b[1;32m<ipython-input-10-e2a04aff946b>\u001b[0m in \u001b[0;36m<module>\u001b[1;34m\u001b[0m\n\u001b[1;32m----> 1\u001b[1;33m \u001b[0mplt\u001b[0m\u001b[1;33m.\u001b[0m\u001b[0mimshow\u001b[0m\u001b[1;33m(\u001b[0m\u001b[1;33m)\u001b[0m\u001b[1;33m\u001b[0m\u001b[1;33m\u001b[0m\u001b[0m\n\u001b[0m",
      "\u001b[1;31mTypeError\u001b[0m: imshow() missing 1 required positional argument: 'X'"
     ]
    }
   ],
   "source": [
    "\n",
    "plt.imshow()"
   ]
  }
 ],
 "metadata": {
  "interpreter": {
   "hash": "9bd32917da3f796ba057fa35ad3e03810b33cd6d3221f1ee265611c33147f53b"
  },
  "kernelspec": {
   "display_name": "Python 3.8.3 64-bit ('base': conda)",
   "language": "python",
   "name": "python3"
  },
  "language_info": {
   "codemirror_mode": {
    "name": "ipython",
    "version": 3
   },
   "file_extension": ".py",
   "mimetype": "text/x-python",
   "name": "python",
   "nbconvert_exporter": "python",
   "pygments_lexer": "ipython3",
   "version": "3.8.3"
  },
  "orig_nbformat": 4
 },
 "nbformat": 4,
 "nbformat_minor": 2
}
