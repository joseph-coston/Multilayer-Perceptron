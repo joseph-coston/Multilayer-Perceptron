{
 "cells": [
  {
   "cell_type": "markdown",
   "metadata": {},
   "source": [
    "# Multilayer Perceptron Visualization\n",
    "### Joseph Coston & Douglas Newquist\n",
    "Final Project for CSE 489 Machine Learning\n",
    "\n",
    "11/13/2021"
   ]
  },
  {
   "cell_type": "code",
   "execution_count": 1,
   "metadata": {},
   "outputs": [],
   "source": [
    "# standard imports\n",
    "import numpy as np\n",
    "import pandas as pd\n",
    "import matplotlib as mpl\n",
    "import matplotlib.pyplot as plt\n",
    "# project imports\n",
    "import generator\n",
    "import mlp"
   ]
  },
  {
   "cell_type": "code",
   "execution_count": 2,
   "metadata": {},
   "outputs": [],
   "source": [
    "# generate some random datapoints\n",
    "N = 100\n",
    "pc = generator.pointCloud2D(f = lambda x,y : (x+y-1 > 0), n=N)"
   ]
  },
  {
   "cell_type": "code",
   "execution_count": 3,
   "metadata": {},
   "outputs": [
    {
     "data": {
      "text/plain": [
       "Text(0.5, 0.98, 'Actual Point Output Values')"
      ]
     },
     "execution_count": 3,
     "metadata": {},
     "output_type": "execute_result"
    },
    {
     "data": {
      "image/png": "[encoded data removed]",
      "text/plain": [
       "<Figure size 432x288 with 1 Axes>"
      ]
     },
     "metadata": {
      "needs_background": "light"
     },
     "output_type": "display_data"
    }
   ],
   "source": [
    "# plot the liearly separable distribution\n",
    "fig, ax = pc.to_fig()\n",
    "fig.suptitle('Actual Point Output Values')"
   ]
  },
  {
   "cell_type": "code",
   "execution_count": 8,
   "metadata": {},
   "outputs": [
    {
     "name": "stdout",
     "output_type": "stream",
     "text": [
      "True\n"
     ]
    }
   ],
   "source": [
    "# Example linear perceptron describing the line (x + y > 0)\n",
    "s1 = mlp.Neuron(2, lambda x: x > 0, 0)\n",
    "print(s1.evaluate((pc.data['x'][0],pc.data['y'][0])))"
   ]
  },
  {
   "cell_type": "code",
   "execution_count": 12,
   "metadata": {},
   "outputs": [
    {
     "data": {
      "text/plain": [
       "[0.23659637231771752,\n",
       " 0.47552910785776015,\n",
       " 0.5736445368481705,\n",
       " 0.7886590209883536,\n",
       " 0.5548650445166875,\n",
       " 0.6648368968264771,\n",
       " 0.38352498182632744,\n",
       " 0.5430777751462341,\n",
       " 0.5716845389744133,\n",
       " 0.38343781364262053,\n",
       " 0.35088057416771773,\n",
       " 0.43810674978110925,\n",
       " 0.8206919606804306,\n",
       " 0.30771624928354463,\n",
       " 0.4854196199321976,\n",
       " 0.35318301017793197,\n",
       " 0.28061485699535865,\n",
       " 0.6416400695728356,\n",
       " 0.19233047686233856,\n",
       " 0.8096484088611878,\n",
       " 0.35233017820644374,\n",
       " 0.7885965633677516,\n",
       " 0.2721879909189718,\n",
       " 0.6958112875649962,\n",
       " 0.48789269750004854,\n",
       " 0.5286750320340557,\n",
       " 0.4815439743259495,\n",
       " 0.42590971387422016,\n",
       " 0.8382871969548767,\n",
       " 0.2547472626615843,\n",
       " 0.51172938256939,\n",
       " 0.475424643662473,\n",
       " 0.7846048268786784,\n",
       " 0.6243141836178484,\n",
       " 0.2986582420269036,\n",
       " 0.4556304313929998,\n",
       " 0.6743117472419343,\n",
       " 0.6777161773387627,\n",
       " 0.6190531338482806,\n",
       " 0.4360937247976159,\n",
       " 0.8361982803700994,\n",
       " 0.6663817731557616,\n",
       " 0.5324702468183854,\n",
       " 0.6053894101070039,\n",
       " 0.5229259373096383,\n",
       " 0.3960925095512875,\n",
       " 0.4597890380239616,\n",
       " 0.6499479367597866,\n",
       " 0.6124811173082253,\n",
       " 0.5828825367815282,\n",
       " 0.5756582004461612,\n",
       " 0.6242843448506091,\n",
       " 0.6481031557153486,\n",
       " 0.7124077770923061,\n",
       " 0.7357999086102749,\n",
       " 0.45678910224139,\n",
       " 0.6008790890300311,\n",
       " 0.6696295054177575,\n",
       " 0.1776032826502158,\n",
       " 0.5914942169645638,\n",
       " 0.4015837216984771,\n",
       " 0.463231910954931,\n",
       " 0.4928964940235118,\n",
       " 0.6089759383774158,\n",
       " 0.32727959541759716,\n",
       " 0.6394019228915451,\n",
       " 0.6461649706719207,\n",
       " 0.5611901166695978,\n",
       " 0.31954729779066365,\n",
       " 0.604846166159323,\n",
       " 0.7106778744113182,\n",
       " 0.501490381470445,\n",
       " 0.4607185466768921,\n",
       " 0.47961434527882746,\n",
       " 0.7387283241916563,\n",
       " 0.21423516490413416,\n",
       " 0.5837359322704578,\n",
       " 0.7169572563381668,\n",
       " 0.470625961535177,\n",
       " 0.7468138358081238,\n",
       " 0.49352982700940895,\n",
       " 0.31542001578684015,\n",
       " 0.5402638707196002,\n",
       " 0.2141238432751007,\n",
       " 0.19923785754100853,\n",
       " 0.1937009940986326,\n",
       " 0.3768810768206381,\n",
       " 0.47970446857195914,\n",
       " 0.8619619776518975,\n",
       " 0.4655365094734266,\n",
       " 0.8114149960395617,\n",
       " 0.2277854835488041,\n",
       " 0.4741571823122332,\n",
       " 0.4804853603832293,\n",
       " 0.826449247267745,\n",
       " 0.48962724870448,\n",
       " 0.8443349908128104,\n",
       " 0.39230058058091566,\n",
       " 0.2949220940674592,\n",
       " 0.5435433145218127]"
      ]
     },
     "execution_count": 12,
     "metadata": {},
     "output_type": "execute_result"
    }
   ],
   "source": [
    "l1 = mlp.Layer(N, 2, mlp.sigmoid)\n",
    "l1.evalute(pc.data['x'].to_list())"
   ]
  }
 ],
 "metadata": {
  "interpreter": {
   "hash": "9bd32917da3f796ba057fa35ad3e03810b33cd6d3221f1ee265611c33147f53b"
  },
  "kernelspec": {
   "display_name": "Python 3.8.3 64-bit ('base': conda)",
   "language": "python",
   "name": "python3"
  },
  "language_info": {
   "codemirror_mode": {
    "name": "ipython",
    "version": 3
   },
   "file_extension": ".py",
   "mimetype": "text/x-python",
   "name": "python",
   "nbconvert_exporter": "python",
   "pygments_lexer": "ipython3",
   "version": "3.8.3"
  },
  "orig_nbformat": 4
 },
 "nbformat": 4,
 "nbformat_minor": 2
}
